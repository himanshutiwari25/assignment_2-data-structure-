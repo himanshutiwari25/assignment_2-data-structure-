{
 "cells": [
  {
   "cell_type": "code",
   "execution_count": null,
   "id": "2a032695-5af5-4860-9c28-d8b307f46f7a",
   "metadata": {},
   "outputs": [],
   "source": [
    "#Ques: Discuss string slicing and provide exanples ?"
   ]
  },
  {
   "cell_type": "code",
   "execution_count": null,
   "id": "21c568c2-2edd-402e-8629-7ab0a3910de2",
   "metadata": {},
   "outputs": [],
   "source": [
    "# string slicing is a concept of extracting the string by providing starting and end index."
   ]
  },
  {
   "cell_type": "code",
   "execution_count": 2,
   "id": "30d53f30-ed97-4f07-a820-500878fffbad",
   "metadata": {},
   "outputs": [],
   "source": [
    "string_1= \"i am a good student \""
   ]
  },
  {
   "cell_type": "code",
   "execution_count": 3,
   "id": "b0dddb65-84cb-46c4-ad71-cd96a72481e9",
   "metadata": {},
   "outputs": [
    {
     "data": {
      "text/plain": [
       "'i am '"
      ]
     },
     "execution_count": 3,
     "metadata": {},
     "output_type": "execute_result"
    }
   ],
   "source": [
    "string_1[0:5] # it starts from 0 and 5 will be excluded"
   ]
  },
  {
   "cell_type": "code",
   "execution_count": 6,
   "id": "0d09b161-92f9-471e-9bb8-1fe2cea1434c",
   "metadata": {},
   "outputs": [
    {
     "data": {
      "text/plain": [
       "'a good '"
      ]
     },
     "execution_count": 6,
     "metadata": {},
     "output_type": "execute_result"
    }
   ],
   "source": [
    "string_1[5:12] #here also it had taken the index from 5 to 11 in which 12th ndex is excluded"
   ]
  },
  {
   "cell_type": "code",
   "execution_count": 7,
   "id": "186f62c6-c2f6-4dcf-a960-df147edd114d",
   "metadata": {},
   "outputs": [
    {
     "data": {
      "text/plain": [
       "'i am a good student '"
      ]
     },
     "execution_count": 7,
     "metadata": {},
     "output_type": "execute_result"
    }
   ],
   "source": [
    "string_1[0:] # if we do not provide the end index by default it will give the characters to the last index ."
   ]
  },
  {
   "cell_type": "code",
   "execution_count": null,
   "id": "19b66194-ceb0-4005-8037-9a5f9b5b51ca",
   "metadata": {},
   "outputs": [],
   "source": [
    "# similarly"
   ]
  },
  {
   "cell_type": "code",
   "execution_count": 13,
   "id": "e43f6463-5f20-40da-8136-3707b32f86b3",
   "metadata": {},
   "outputs": [],
   "source": [
    "string_2= \"pwskills\" # here we want to all string except last three."
   ]
  },
  {
   "cell_type": "code",
   "execution_count": 12,
   "id": "64f57bb8-a6c8-4ad9-81d3-2355bd73c9e7",
   "metadata": {},
   "outputs": [
    {
     "data": {
      "text/plain": [
       "'pwski'"
      ]
     },
     "execution_count": 12,
     "metadata": {},
     "output_type": "execute_result"
    }
   ],
   "source": [
    "string_2[:-3]"
   ]
  },
  {
   "cell_type": "code",
   "execution_count": null,
   "id": "33935dda-0f9c-4017-8bd0-dcbc2c339aec",
   "metadata": {},
   "outputs": [],
   "source": [
    "# if we want only last three"
   ]
  },
  {
   "cell_type": "code",
   "execution_count": 14,
   "id": "5e4374fb-92ac-423d-9385-903c30df457e",
   "metadata": {},
   "outputs": [
    {
     "data": {
      "text/plain": [
       "'lls'"
      ]
     },
     "execution_count": 14,
     "metadata": {},
     "output_type": "execute_result"
    }
   ],
   "source": [
    "string_2[-3:]"
   ]
  },
  {
   "cell_type": "code",
   "execution_count": null,
   "id": "4f98f2e3-f6b1-4979-9816-13aef7623e6d",
   "metadata": {},
   "outputs": [],
   "source": [
    "# now we will see the syntax of slicing"
   ]
  },
  {
   "cell_type": "code",
   "execution_count": null,
   "id": "253e1447-ff4a-4e63-b785-68657a8b6afe",
   "metadata": {},
   "outputs": [],
   "source": [
    "# ( start:end:step)"
   ]
  },
  {
   "cell_type": "code",
   "execution_count": 16,
   "id": "07c57d80-df21-4873-9227-7d1d28dc9255",
   "metadata": {},
   "outputs": [],
   "source": [
    "string_3 = \"hello world!\""
   ]
  },
  {
   "cell_type": "code",
   "execution_count": 18,
   "id": "643d5a55-5e84-4fe5-82ec-29a2e1b632b0",
   "metadata": {},
   "outputs": [
    {
     "data": {
      "text/plain": [
       "'hlo'"
      ]
     },
     "execution_count": 18,
     "metadata": {},
     "output_type": "execute_result"
    }
   ],
   "source": [
    "string_3[0:5:2]"
   ]
  },
  {
   "cell_type": "code",
   "execution_count": 19,
   "id": "4941ad25-b375-4856-b348-4e27d2ede839",
   "metadata": {},
   "outputs": [
    {
     "data": {
      "text/plain": [
       "'hello world!'"
      ]
     },
     "execution_count": 19,
     "metadata": {},
     "output_type": "execute_result"
    }
   ],
   "source": [
    "string_3[::1]"
   ]
  },
  {
   "cell_type": "code",
   "execution_count": null,
   "id": "67771b39-d733-459e-8ae0-0ddaa719c693",
   "metadata": {},
   "outputs": [],
   "source": [
    "# reverse the string"
   ]
  },
  {
   "cell_type": "code",
   "execution_count": 20,
   "id": "0829c92c-6c6f-458d-bc96-8b31078634e6",
   "metadata": {},
   "outputs": [
    {
     "data": {
      "text/plain": [
       "'!dlrow olleh'"
      ]
     },
     "execution_count": 20,
     "metadata": {},
     "output_type": "execute_result"
    }
   ],
   "source": [
    "string_3[::-1]"
   ]
  },
  {
   "cell_type": "code",
   "execution_count": null,
   "id": "71c8b1ee-d192-4492-be77-58075758fcd4",
   "metadata": {},
   "outputs": [],
   "source": [
    "# thus this is all abot the slicing concept ."
   ]
  },
  {
   "cell_type": "code",
   "execution_count": null,
   "id": "0fdfd9a7-f5d8-4bd2-b33c-306a87de8dd0",
   "metadata": {},
   "outputs": [],
   "source": [
    "# QUES : Explain the key features of list in python ?"
   ]
  },
  {
   "cell_type": "code",
   "execution_count": null,
   "id": "f62dd744-3eda-4af1-a923-8e449dd171c8",
   "metadata": {},
   "outputs": [],
   "source": [
    "#  Answer: list is a ordered collection of items,\n",
    "\n",
    "# it uses the large brackets []\n",
    "\n",
    "# its like a shopping bag."
   ]
  },
  {
   "cell_type": "code",
   "execution_count": 25,
   "id": "019cc770-7abb-400e-9d3e-5502e0d80755",
   "metadata": {},
   "outputs": [],
   "source": [
    "grocery_list = [\"milk\" ,\"orange\", 1, 2.2 ,\"true\", 5+8j ]"
   ]
  },
  {
   "cell_type": "code",
   "execution_count": 26,
   "id": "89b41e44-7351-4ac3-a850-148f34e5752e",
   "metadata": {},
   "outputs": [
    {
     "data": {
      "text/plain": [
       "list"
      ]
     },
     "execution_count": 26,
     "metadata": {},
     "output_type": "execute_result"
    }
   ],
   "source": [
    "type(grocery_list)"
   ]
  },
  {
   "cell_type": "code",
   "execution_count": null,
   "id": "5069fa35-f9a7-4291-aa2f-765de13ba986",
   "metadata": {},
   "outputs": [],
   "source": [
    "# slicing can be done in list same as string which i performed in previous qustions."
   ]
  },
  {
   "cell_type": "code",
   "execution_count": 27,
   "id": "834b8aa3-b781-4505-8a97-80d96360ac1e",
   "metadata": {},
   "outputs": [
    {
     "data": {
      "text/plain": [
       "['milk', 'orange', 1, 2.2, 'true', (5+8j)]"
      ]
     },
     "execution_count": 27,
     "metadata": {},
     "output_type": "execute_result"
    }
   ],
   "source": [
    "grocery_list[0:]"
   ]
  },
  {
   "cell_type": "code",
   "execution_count": null,
   "id": "ec0ea8c1-09dd-4ffa-8a35-0717e60bf935",
   "metadata": {},
   "outputs": [],
   "source": [
    "# addition to list"
   ]
  },
  {
   "cell_type": "code",
   "execution_count": 32,
   "id": "4aa8d32a-70e8-49e0-a6f3-11117a9064db",
   "metadata": {},
   "outputs": [],
   "source": [
    "lis=[\"apple\",\"banana\"]"
   ]
  },
  {
   "cell_type": "code",
   "execution_count": 34,
   "id": "7ca5dd9c-f430-40a4-9817-eb1302d93a03",
   "metadata": {},
   "outputs": [],
   "source": [
    "lis.append(\"oranges\")"
   ]
  },
  {
   "cell_type": "code",
   "execution_count": 35,
   "id": "532994ce-b25c-4160-921f-7e1bca4f01f8",
   "metadata": {},
   "outputs": [
    {
     "name": "stdout",
     "output_type": "stream",
     "text": [
      "['apple', 'banana', 'oranges', 'oranges']\n"
     ]
    }
   ],
   "source": [
    "print(lis)"
   ]
  },
  {
   "cell_type": "code",
   "execution_count": null,
   "id": "549a6a10-8cff-49f1-abfa-6adf9f84511f",
   "metadata": {},
   "outputs": [],
   "source": [
    "#list is mutable"
   ]
  },
  {
   "cell_type": "code",
   "execution_count": 37,
   "id": "fd68d2e4-9a58-4226-94a3-5fb396c60082",
   "metadata": {},
   "outputs": [],
   "source": [
    "a=[\"ajay\",\" bijay\",\"sanjay\"]"
   ]
  },
  {
   "cell_type": "code",
   "execution_count": 38,
   "id": "4e195e9f-124a-438e-ad65-77b91d465c5e",
   "metadata": {},
   "outputs": [
    {
     "data": {
      "text/plain": [
       "' bijay'"
      ]
     },
     "execution_count": 38,
     "metadata": {},
     "output_type": "execute_result"
    }
   ],
   "source": [
    "a[1]"
   ]
  },
  {
   "cell_type": "code",
   "execution_count": 41,
   "id": "c6ad7b42-e080-466d-8c45-5381341bfddb",
   "metadata": {},
   "outputs": [],
   "source": [
    "a[1] = \"anshika\""
   ]
  },
  {
   "cell_type": "code",
   "execution_count": 42,
   "id": "4aa7876f-cf24-4707-8ee7-6f73a47bf9f0",
   "metadata": {},
   "outputs": [
    {
     "name": "stdout",
     "output_type": "stream",
     "text": [
      "['ajay', 'anshika', 'sanjay']\n"
     ]
    }
   ],
   "source": [
    "print(a)"
   ]
  },
  {
   "cell_type": "code",
   "execution_count": null,
   "id": "2cce1a01-ae68-4679-bfea-6b4124cedfe9",
   "metadata": {},
   "outputs": [],
   "source": [
    "# addition of the elements in different indexes"
   ]
  },
  {
   "cell_type": "code",
   "execution_count": 3,
   "id": "1831aca0-8376-422f-8728-70e068beb80f",
   "metadata": {},
   "outputs": [],
   "source": [
    "lis = [1,2,3]"
   ]
  },
  {
   "cell_type": "code",
   "execution_count": 5,
   "id": "999aa208-b43c-4d86-af37-9d6b1d2aa7ef",
   "metadata": {},
   "outputs": [],
   "source": [
    "lis.insert(1,\"5\")"
   ]
  },
  {
   "cell_type": "code",
   "execution_count": 6,
   "id": "a8a7eb44-b717-4737-b16f-bf59c4d085e5",
   "metadata": {},
   "outputs": [
    {
     "name": "stdout",
     "output_type": "stream",
     "text": [
      "[1, '5', 2, 3]\n"
     ]
    }
   ],
   "source": [
    "print(lis)"
   ]
  },
  {
   "cell_type": "code",
   "execution_count": 9,
   "id": "b7acd34b-e411-462d-a242-973820065933",
   "metadata": {},
   "outputs": [
    {
     "name": "stdout",
     "output_type": "stream",
     "text": [
      "['ajay', 'aman', 'khushi', 'kishan']\n"
     ]
    }
   ],
   "source": [
    "bus_seat = [ \"ajay\",\"aman\",\"kishan\"] # here we inserted the khushi in between \" aman \" and \" kishan\"\n",
    "bus_seat.insert(2,\"khushi\")\n",
    "print(bus_seat)"
   ]
  },
  {
   "cell_type": "code",
   "execution_count": null,
   "id": "9ebf20ec-95cd-42fd-b2d4-5527f3465b37",
   "metadata": {},
   "outputs": [],
   "source": [
    "# extend operation to append elements from the another list"
   ]
  },
  {
   "cell_type": "code",
   "execution_count": 10,
   "id": "2cdb98df-213c-4d64-9ff6-81c05ef995fc",
   "metadata": {},
   "outputs": [
    {
     "name": "stdout",
     "output_type": "stream",
     "text": [
      "[' apple', 'banana', 'orange', 'brinjal', 'potato']\n"
     ]
    }
   ],
   "source": [
    "my_list = [\" apple\",\"banana\",\"orange\"]\n",
    "brothers_list = [\"brinjal\",\"potato\"]\n",
    "my_list.extend(brothers_list)\n",
    "print(my_list)"
   ]
  },
  {
   "cell_type": "code",
   "execution_count": null,
   "id": "f8848768-3d38-4285-a079-40049b0efded",
   "metadata": {},
   "outputs": [],
   "source": [
    "# repetition operation"
   ]
  },
  {
   "cell_type": "code",
   "execution_count": null,
   "id": "8e5a70cc-f980-4411-a840-6b6e0a4e046a",
   "metadata": {},
   "outputs": [],
   "source": [
    "# no of times want to repeat "
   ]
  },
  {
   "cell_type": "code",
   "execution_count": 11,
   "id": "f58a7b26-8df5-4d28-b04a-ba4a212ca38d",
   "metadata": {},
   "outputs": [
    {
     "data": {
      "text/plain": [
       "'*****'"
      ]
     },
     "execution_count": 11,
     "metadata": {},
     "output_type": "execute_result"
    }
   ],
   "source": [
    "\"*\" * 5"
   ]
  },
  {
   "cell_type": "code",
   "execution_count": 12,
   "id": "149e196c-1b47-474f-b38e-45fa4bea25a4",
   "metadata": {},
   "outputs": [
    {
     "name": "stdout",
     "output_type": "stream",
     "text": [
      " your appointment is tommorow \n",
      " your appointment is tommorow \n",
      " your appointment is tommorow \n",
      " your appointment is tommorow \n",
      " your appointment is tommorow \n",
      "\n"
     ]
    }
   ],
   "source": [
    "msg = \" your appointment is tommorow \\n\"\n",
    "print(msg*5)\n"
   ]
  },
  {
   "cell_type": "code",
   "execution_count": null,
   "id": "f66751dd-7917-4430-9ee8-0d64218cf201",
   "metadata": {},
   "outputs": [],
   "source": [
    "# membership"
   ]
  },
  {
   "cell_type": "code",
   "execution_count": 13,
   "id": "b46d9c7a-9def-4c23-b6f8-5f815f41e2c2",
   "metadata": {},
   "outputs": [
    {
     "data": {
      "text/plain": [
       "False"
      ]
     },
     "execution_count": 13,
     "metadata": {},
     "output_type": "execute_result"
    }
   ],
   "source": [
    "grocery_list = [\"ajay\",\"sanjay\",\"bijay\",\"milk\",\"butter\",\"cheese\"]\n",
    "\"ajay\" not in grocery_list"
   ]
  },
  {
   "cell_type": "code",
   "execution_count": 14,
   "id": "42a9d1e6-4c17-47bf-b047-9fef1bf6682e",
   "metadata": {},
   "outputs": [
    {
     "data": {
      "text/plain": [
       "True"
      ]
     },
     "execution_count": 14,
     "metadata": {},
     "output_type": "execute_result"
    }
   ],
   "source": [
    "\"ajay\" in grocery_list"
   ]
  },
  {
   "cell_type": "code",
   "execution_count": null,
   "id": "9d1fd040-3dd8-4098-a633-94208e355848",
   "metadata": {},
   "outputs": [],
   "source": [
    "# in the list there is a conceptof deep copy and shallow copy \n",
    "\n",
    "# SHALLOW COPY : VALUE gets change with change in the another list.\n",
    "\n",
    "# DEEP COPY : value will not change with the change of another list."
   ]
  },
  {
   "cell_type": "code",
   "execution_count": null,
   "id": "250caca7-29a0-4ca9-99a6-107f583f1b72",
   "metadata": {},
   "outputs": [],
   "source": [
    "# sorting of list"
   ]
  },
  {
   "cell_type": "code",
   "execution_count": 17,
   "id": "11c5d635-6d7b-43f8-a85d-4e6633cbd742",
   "metadata": {},
   "outputs": [
    {
     "data": {
      "text/plain": [
       "['computer network', 'data structure', 'himanshu', 'operating system', 'sws']"
      ]
     },
     "execution_count": 17,
     "metadata": {},
     "output_type": "execute_result"
    }
   ],
   "source": [
    "book_list = [\"data structure\",\"operating system\",\"computer network\",\"sws\",\"himanshu\"]\n",
    "sorted(book_list)"
   ]
  },
  {
   "cell_type": "code",
   "execution_count": null,
   "id": "72ee9efa-4334-4b78-849f-73f3cdb499e2",
   "metadata": {},
   "outputs": [],
   "source": [
    "#length >> to find the number of elements"
   ]
  },
  {
   "cell_type": "code",
   "execution_count": 18,
   "id": "6ddde73e-6a41-440f-9b3f-79f9448c3dab",
   "metadata": {},
   "outputs": [
    {
     "data": {
      "text/plain": [
       "5"
      ]
     },
     "execution_count": 18,
     "metadata": {},
     "output_type": "execute_result"
    }
   ],
   "source": [
    "len(book_list)"
   ]
  },
  {
   "cell_type": "code",
   "execution_count": null,
   "id": "e6186d94-80c7-4ebb-98f2-0c96cd9b53fa",
   "metadata": {},
   "outputs": [],
   "source": [
    "# removing"
   ]
  },
  {
   "cell_type": "code",
   "execution_count": 27,
   "id": "ed961d63-269f-43c0-9b9b-40776c991e08",
   "metadata": {},
   "outputs": [],
   "source": [
    "a = [\"1\",\"2\",\"5\",\"6\",\"8\",\"9\",\"5\",\"5\",\"5\"]"
   ]
  },
  {
   "cell_type": "code",
   "execution_count": 29,
   "id": "30875084-fb6b-4473-9f97-b504e62e0a7d",
   "metadata": {},
   "outputs": [],
   "source": [
    "a.remove('2')"
   ]
  },
  {
   "cell_type": "code",
   "execution_count": 30,
   "id": "18b2b3f9-aed9-426e-92f8-05460648066a",
   "metadata": {},
   "outputs": [
    {
     "name": "stdout",
     "output_type": "stream",
     "text": [
      "['1', '5', '6', '8', '9', '5', '5', '5']\n"
     ]
    }
   ],
   "source": [
    "print(a)"
   ]
  },
  {
   "cell_type": "code",
   "execution_count": null,
   "id": "c2394112-de5b-444a-ae14-a7b5a6d95276",
   "metadata": {},
   "outputs": [],
   "source": [
    "# pop>> delete the last element"
   ]
  },
  {
   "cell_type": "code",
   "execution_count": 31,
   "id": "44130eab-4b2a-4a9f-82c6-3f35b983946b",
   "metadata": {},
   "outputs": [
    {
     "data": {
      "text/plain": [
       "'5'"
      ]
     },
     "execution_count": 31,
     "metadata": {},
     "output_type": "execute_result"
    }
   ],
   "source": [
    "a.pop()"
   ]
  },
  {
   "cell_type": "code",
   "execution_count": 36,
   "id": "f11bc991-ea30-4efc-b812-ed4609f12c32",
   "metadata": {},
   "outputs": [
    {
     "data": {
      "text/plain": [
       "[20, 40, 60, 80]"
      ]
     },
     "execution_count": 36,
     "metadata": {},
     "output_type": "execute_result"
    }
   ],
   "source": [
    "# list comprehension\n",
    "# example\n",
    "\n",
    "prices = [10,20,30,40]\n",
    "\n",
    "[price * 2 for price in prices]\n"
   ]
  },
  {
   "cell_type": "code",
   "execution_count": null,
   "id": "7fcbc542-2ad9-4902-b386-3d0ca28c3f30",
   "metadata": {},
   "outputs": [],
   "source": [
    "# QUES: Describe how to access ,modify and delete elements in a list with example ?"
   ]
  },
  {
   "cell_type": "code",
   "execution_count": null,
   "id": "2bb148ad-ae33-465f-b9a8-bf7e46b12a14",
   "metadata": {},
   "outputs": [],
   "source": [
    "# accessing of list is same as string"
   ]
  },
  {
   "cell_type": "code",
   "execution_count": 37,
   "id": "a7e183ac-cf26-4fa0-adf2-ca3171c697d3",
   "metadata": {},
   "outputs": [
    {
     "data": {
      "text/plain": [
       "12"
      ]
     },
     "execution_count": 37,
     "metadata": {},
     "output_type": "execute_result"
    }
   ],
   "source": [
    "a = [12,13,\"ajay\",\"sanjay\",\"bijay\"]\n",
    "a[0]"
   ]
  },
  {
   "cell_type": "code",
   "execution_count": 38,
   "id": "064902d0-0996-4625-a568-b53f7b439cad",
   "metadata": {},
   "outputs": [
    {
     "data": {
      "text/plain": [
       "'bijay'"
      ]
     },
     "execution_count": 38,
     "metadata": {},
     "output_type": "execute_result"
    }
   ],
   "source": [
    "a[4]"
   ]
  },
  {
   "cell_type": "code",
   "execution_count": null,
   "id": "33b6c5f1-ed99-46d0-a067-895fc33f3556",
   "metadata": {},
   "outputs": [],
   "source": [
    "# addition to the list>>modifying the list"
   ]
  },
  {
   "cell_type": "code",
   "execution_count": 40,
   "id": "34fb6e2e-9cf1-4430-a7f1-150b881ab724",
   "metadata": {},
   "outputs": [
    {
     "name": "stdout",
     "output_type": "stream",
     "text": [
      "['potato', 'tomato', 'carrot']\n"
     ]
    }
   ],
   "source": [
    "lis = [\"potato\",\"tomato\"]\n",
    "lis.append(\"carrot\")\n",
    "print(lis)"
   ]
  },
  {
   "cell_type": "code",
   "execution_count": 41,
   "id": "fb6427bc-9969-4140-a10a-8b3184cc81ce",
   "metadata": {},
   "outputs": [
    {
     "name": "stdout",
     "output_type": "stream",
     "text": [
      "['potato', 'brinjal', 'tomato', 'carrot']\n"
     ]
    }
   ],
   "source": [
    "# modifying the elements with the index\n",
    "\n",
    "lis.insert(1,\"brinjal\")\n",
    "print(lis)"
   ]
  },
  {
   "cell_type": "code",
   "execution_count": 42,
   "id": "d121ecd8-3aa3-4b85-af74-eca6e9527883",
   "metadata": {},
   "outputs": [
    {
     "name": "stdout",
     "output_type": "stream",
     "text": [
      "[' himanshu', 'shubhanshu', 'ashish', 'ranjana', 'deva', 'sunny']\n"
     ]
    }
   ],
   "source": [
    "# extend >> it append the elements from the another list\n",
    "\n",
    "list_1 = [ \" himanshu\",\"shubhanshu\",\"ashish\",\"ranjana\"]\n",
    "list_2 = [\"deva\",\"sunny\"]\n",
    "list_1.extend(list_2)\n",
    "print(list_1)"
   ]
  },
  {
   "cell_type": "code",
   "execution_count": 43,
   "id": "bd1c525e-a6e0-47d4-8c45-9a84471efcd6",
   "metadata": {},
   "outputs": [
    {
     "name": "stdout",
     "output_type": "stream",
     "text": [
      "[' himanshu', 'shubhanshu', 'ranjana', 'deva', 'sunny']\n"
     ]
    }
   ],
   "source": [
    "# using remove function we can remove the items from the list\n",
    "\n",
    "list_1.remove(\"ashish\")\n",
    "print(list_1)"
   ]
  },
  {
   "cell_type": "code",
   "execution_count": 44,
   "id": "2f540ed5-1556-4069-8674-95b8277fb492",
   "metadata": {},
   "outputs": [],
   "source": [
    "# if we want to delete the list then we use \" del\" fucntion\n",
    "del(list_1)"
   ]
  },
  {
   "cell_type": "code",
   "execution_count": 45,
   "id": "91571f4f-ca5d-4e8c-953d-aa76162c8fc0",
   "metadata": {},
   "outputs": [
    {
     "ename": "NameError",
     "evalue": "name 'list_1' is not defined",
     "output_type": "error",
     "traceback": [
      "\u001b[0;31m---------------------------------------------------------------------------\u001b[0m",
      "\u001b[0;31mNameError\u001b[0m                                 Traceback (most recent call last)",
      "Cell \u001b[0;32mIn[45], line 1\u001b[0m\n\u001b[0;32m----> 1\u001b[0m \u001b[38;5;28mprint\u001b[39m(\u001b[43mlist_1\u001b[49m)\n",
      "\u001b[0;31mNameError\u001b[0m: name 'list_1' is not defined"
     ]
    }
   ],
   "source": [
    "print(list_1) # so here , we can see the list_1 is not defined , it means it is deleted"
   ]
  },
  {
   "cell_type": "code",
   "execution_count": null,
   "id": "994600ae-cd5e-447b-9480-91c879a54b34",
   "metadata": {},
   "outputs": [],
   "source": [
    "# QUES: Compare and contrast list and tuple with example ?"
   ]
  },
  {
   "cell_type": "code",
   "execution_count": null,
   "id": "6a6ff90d-dbd1-4539-b708-2bb2dfc16410",
   "metadata": {},
   "outputs": [],
   "source": [
    "# Answer:\n",
    "\n",
    "# LIST :\n",
    "\n",
    "\n",
    "# list are ordered collection of elements >> it is used '[] '>> it is mutable.\n",
    "# while , tuples are ordered collection of elements >> it is used '() '>> it is immutable."
   ]
  },
  {
   "cell_type": "code",
   "execution_count": 46,
   "id": "b82e5454-4477-4aee-9ae7-c8c8c4ffba24",
   "metadata": {},
   "outputs": [
    {
     "data": {
      "text/plain": [
       "list"
      ]
     },
     "execution_count": 46,
     "metadata": {},
     "output_type": "execute_result"
    }
   ],
   "source": [
    "# example of list \n",
    "list_1 = [\"ajay\",\"bijay\",\"sanjay\"] # example of list\n",
    "type(list_1)"
   ]
  },
  {
   "cell_type": "code",
   "execution_count": 1,
   "id": "3f7d368c-dc8b-4965-9dda-ffb15e7ba124",
   "metadata": {},
   "outputs": [
    {
     "data": {
      "text/plain": [
       "tuple"
      ]
     },
     "execution_count": 1,
     "metadata": {},
     "output_type": "execute_result"
    }
   ],
   "source": [
    "t = (\"ajay\",\"bijay\",\"sanjay\",2,5,(3+7j))\n",
    "type(t)"
   ]
  },
  {
   "cell_type": "code",
   "execution_count": 3,
   "id": "a706b756-fb36-465b-a7fd-e452ed8d1fdf",
   "metadata": {},
   "outputs": [],
   "source": [
    "# indexing of tuple is same as string and list \n"
   ]
  },
  {
   "cell_type": "code",
   "execution_count": 4,
   "id": "e6525660-7fa5-44fe-bf1d-d8eef93ada87",
   "metadata": {},
   "outputs": [
    {
     "data": {
      "text/plain": [
       "'ajay'"
      ]
     },
     "execution_count": 4,
     "metadata": {},
     "output_type": "execute_result"
    }
   ],
   "source": [
    "t[0]"
   ]
  },
  {
   "cell_type": "code",
   "execution_count": null,
   "id": "3f3fe900-b75e-4c4b-8c70-4afde6e24657",
   "metadata": {},
   "outputs": [],
   "source": [
    "# tuples are immutable"
   ]
  },
  {
   "cell_type": "code",
   "execution_count": 5,
   "id": "678b3bad-f130-4a47-8c37-022739c680e4",
   "metadata": {},
   "outputs": [
    {
     "data": {
      "text/plain": [
       "'ajay'"
      ]
     },
     "execution_count": 5,
     "metadata": {},
     "output_type": "execute_result"
    }
   ],
   "source": [
    "t[0]"
   ]
  },
  {
   "cell_type": "code",
   "execution_count": 7,
   "id": "edc383f4-0519-4929-be36-5135f012c4df",
   "metadata": {},
   "outputs": [
    {
     "ename": "TypeError",
     "evalue": "'tuple' object does not support item assignment",
     "output_type": "error",
     "traceback": [
      "\u001b[0;31m---------------------------------------------------------------------------\u001b[0m",
      "\u001b[0;31mTypeError\u001b[0m                                 Traceback (most recent call last)",
      "Cell \u001b[0;32mIn[7], line 1\u001b[0m\n\u001b[0;32m----> 1\u001b[0m \u001b[43mt\u001b[49m\u001b[43m[\u001b[49m\u001b[38;5;241;43m0\u001b[39;49m\u001b[43m]\u001b[49m \u001b[38;5;241m=\u001b[39m \u001b[38;5;124m\"\u001b[39m\u001b[38;5;124m555\u001b[39m\u001b[38;5;124m\"\u001b[39m\n",
      "\u001b[0;31mTypeError\u001b[0m: 'tuple' object does not support item assignment"
     ]
    }
   ],
   "source": [
    "t[0] = \"555\" # here we can see tuples are immutable"
   ]
  },
  {
   "cell_type": "code",
   "execution_count": 8,
   "id": "df1f33e8-59d5-4f9e-8418-aad00dd2f6e3",
   "metadata": {},
   "outputs": [
    {
     "name": "stdout",
     "output_type": "stream",
     "text": [
      "('ajay', 'bijay', 'sanjay', 2, 5, (3+7j))\n"
     ]
    }
   ],
   "source": [
    "print(t)"
   ]
  },
  {
   "cell_type": "code",
   "execution_count": null,
   "id": "d995cad2-4dff-44b1-9383-1ccb085d56d6",
   "metadata": {},
   "outputs": [],
   "source": [
    "# QUES : Describe the key features of set and provide the example of usecases.?"
   ]
  },
  {
   "cell_type": "code",
   "execution_count": null,
   "id": "509b9c41-7c71-450c-914b-5c7a4f0732c2",
   "metadata": {},
   "outputs": [],
   "source": [
    "# ANSWER : Sets are unordered and unique collections of elements >> it does not aloow duplicate elements."
   ]
  },
  {
   "cell_type": "code",
   "execution_count": null,
   "id": "91ccfeba-574f-4cc9-ae46-3dc6ba50c7c3",
   "metadata": {},
   "outputs": [],
   "source": [
    "# as we know , sets are unordered collection of elements , therfore indexing cannot be done because it gives unique elements"
   ]
  },
  {
   "cell_type": "code",
   "execution_count": null,
   "id": "5ad7453d-3ce2-4dc1-b7f0-0e4034a39ec3",
   "metadata": {},
   "outputs": [],
   "source": [
    "# sets are defined in the middle brackets \" {} \""
   ]
  },
  {
   "cell_type": "code",
   "execution_count": 14,
   "id": "d4a61c61-5908-434c-8134-c15ed7f107fd",
   "metadata": {},
   "outputs": [
    {
     "data": {
      "text/plain": [
       "dict"
      ]
     },
     "execution_count": 14,
     "metadata": {},
     "output_type": "execute_result"
    }
   ],
   "source": [
    "# lets take an example :\n",
    "\n",
    "s = {}\n",
    "type(s) # here we can see it  showing dictionary because we did not given any value to the \"s\""
   ]
  },
  {
   "cell_type": "code",
   "execution_count": 15,
   "id": "e4e44143-ccab-48b0-9239-b0824279c62f",
   "metadata": {},
   "outputs": [
    {
     "data": {
      "text/plain": [
       "set"
      ]
     },
     "execution_count": 15,
     "metadata": {},
     "output_type": "execute_result"
    }
   ],
   "source": [
    "s = { \"ajay\",\"bijay\",\"sanjay\",\"ajay\"}\n",
    "type(s) # here we can see it gives set"
   ]
  },
  {
   "cell_type": "code",
   "execution_count": 16,
   "id": "baa9a20b-a64e-4793-88e7-510ce41af0b9",
   "metadata": {},
   "outputs": [
    {
     "name": "stdout",
     "output_type": "stream",
     "text": [
      "{'sanjay', 'ajay', 'bijay'}\n"
     ]
    }
   ],
   "source": [
    "print(s) # here we can see that elements are unique."
   ]
  },
  {
   "cell_type": "code",
   "execution_count": null,
   "id": "1b7b720c-7d88-4e8f-b649-cfc0c919b8dd",
   "metadata": {},
   "outputs": [],
   "source": [
    "# USE CASES >> if we want to avoid the duplicacy we use set "
   ]
  },
  {
   "cell_type": "code",
   "execution_count": 17,
   "id": "4741ec6b-8832-47de-9f9a-a063d802a6b7",
   "metadata": {},
   "outputs": [
    {
     "name": "stdout",
     "output_type": "stream",
     "text": [
      "['ajay', 'ajay', 'samjay', 'parrot', 'maina', 'samjay']\n"
     ]
    }
   ],
   "source": [
    "list_1 = [ \"ajay\",\"ajay\",\"samjay\",\"parrot\",\"maina\",\"samjay\"]\n",
    "# if we print list , we will see it gives the duplicate elements also\n",
    "print(list_1)"
   ]
  },
  {
   "cell_type": "code",
   "execution_count": null,
   "id": "77b1b122-d328-4bc1-9607-86d7de57ed3b",
   "metadata": {},
   "outputs": [],
   "source": [
    "# but if we use set in place of list we will see it would not give duplicate elements."
   ]
  },
  {
   "cell_type": "code",
   "execution_count": 19,
   "id": "d733b1ad-dbd7-4c20-9b64-ee24719a2a32",
   "metadata": {},
   "outputs": [],
   "source": [
    "s = set(list_1)"
   ]
  },
  {
   "cell_type": "code",
   "execution_count": 20,
   "id": "8dea772e-ca07-448d-8396-1b00f659d479",
   "metadata": {},
   "outputs": [
    {
     "name": "stdout",
     "output_type": "stream",
     "text": [
      "{'samjay', 'ajay', 'parrot', 'maina'}\n"
     ]
    }
   ],
   "source": [
    "print(s)"
   ]
  },
  {
   "cell_type": "code",
   "execution_count": null,
   "id": "26afe91e-9cde-4f2a-8e8b-66ea0ac4be45",
   "metadata": {},
   "outputs": [],
   "source": [
    "# here we can see it showing only unique elements "
   ]
  },
  {
   "cell_type": "code",
   "execution_count": null,
   "id": "3eb1bf71-82b8-4272-bf8f-f7745437f76a",
   "metadata": {},
   "outputs": [],
   "source": [
    "# SET IS MUTABLE "
   ]
  },
  {
   "cell_type": "code",
   "execution_count": 22,
   "id": "2cc5f3f9-8f8b-4108-b6f3-1c609030ccb9",
   "metadata": {},
   "outputs": [],
   "source": [
    "set_1 = {\"4,5,6,8,88\"}"
   ]
  },
  {
   "cell_type": "code",
   "execution_count": 23,
   "id": "fe8ea3c8-c19d-4e53-9c77-349a3e661d8e",
   "metadata": {},
   "outputs": [],
   "source": [
    "set_1.add(25)"
   ]
  },
  {
   "cell_type": "code",
   "execution_count": 24,
   "id": "299dda55-5bfa-4c52-a7c9-452d107610d3",
   "metadata": {},
   "outputs": [
    {
     "name": "stdout",
     "output_type": "stream",
     "text": [
      "{'4,5,6,8,88', 25}\n"
     ]
    }
   ],
   "source": [
    "print(set_1) # it is not compulsory that it will add the elements to the last like in list."
   ]
  },
  {
   "cell_type": "code",
   "execution_count": 25,
   "id": "ac0e79b3-1d04-43c0-bea3-53431fa5726c",
   "metadata": {},
   "outputs": [
    {
     "data": {
      "text/plain": [
       "'4,5,6,8,88'"
      ]
     },
     "execution_count": 25,
     "metadata": {},
     "output_type": "execute_result"
    }
   ],
   "source": [
    "set_1.pop()"
   ]
  },
  {
   "cell_type": "code",
   "execution_count": 26,
   "id": "28705155-0458-4f05-8495-43ae8da79089",
   "metadata": {},
   "outputs": [
    {
     "data": {
      "text/plain": [
       "25"
      ]
     },
     "execution_count": 26,
     "metadata": {},
     "output_type": "execute_result"
    }
   ],
   "source": [
    "set_1.pop()"
   ]
  },
  {
   "cell_type": "code",
   "execution_count": null,
   "id": "7cd3ae73-131c-43da-ab60-beab4f0f98e0",
   "metadata": {},
   "outputs": [],
   "source": [
    "# SETS OPERATION \n",
    "# UNION >> IN THIS ALL ELEMENTS WILL BE RETUREND\n",
    "# INTERSECTION >. ONLY COMMON ELEMENTS WILL RETUREND \n",
    "# DIFFERENCE >> IT REPRESENT THE ELEMENTS WHICH ARE PRESENT IN SET 1 BUT NOT IN SET 2.\n",
    "# SYMMETRIC DIFFERENCE >> RETURNS THE ELEMENTS WHICH ARE NOT COMMON IN BOTH"
   ]
  },
  {
   "cell_type": "code",
   "execution_count": null,
   "id": "cfc79cc8-2fe6-4f24-8672-74b2b158ad2e",
   "metadata": {},
   "outputs": [],
   "source": [
    "# FROZEN SET"
   ]
  },
  {
   "cell_type": "code",
   "execution_count": null,
   "id": "3eac0d29-7d43-489a-8384-13467c12653d",
   "metadata": {},
   "outputs": [],
   "source": [
    "# WE CAN NOT ADD ELEMENTS AND CAN NOT REMOVE"
   ]
  },
  {
   "cell_type": "code",
   "execution_count": 37,
   "id": "a0a0281a-9206-4374-b1df-3f20197a601d",
   "metadata": {},
   "outputs": [
    {
     "name": "stdout",
     "output_type": "stream",
     "text": [
      "{1, 2, 3, '55'}\n"
     ]
    }
   ],
   "source": [
    "S = {1,2,3} # this is normal set in which we can add the elements\n",
    "S.add(\"55\")\n",
    "print(S)"
   ]
  },
  {
   "cell_type": "code",
   "execution_count": null,
   "id": "e7f1e442-ba8c-4c29-bdf5-bc78a4aaf317",
   "metadata": {},
   "outputs": [],
   "source": [
    "# to make it immutable we use frozen set"
   ]
  },
  {
   "cell_type": "code",
   "execution_count": 38,
   "id": "1d95fbc9-20a6-4d9b-a87d-de21cbca1d0a",
   "metadata": {},
   "outputs": [
    {
     "ename": "AttributeError",
     "evalue": "'frozenset' object has no attribute 'add'",
     "output_type": "error",
     "traceback": [
      "\u001b[0;31m---------------------------------------------------------------------------\u001b[0m",
      "\u001b[0;31mAttributeError\u001b[0m                            Traceback (most recent call last)",
      "Cell \u001b[0;32mIn[38], line 2\u001b[0m\n\u001b[1;32m      1\u001b[0m my_fs \u001b[38;5;241m=\u001b[39m \u001b[38;5;28mfrozenset\u001b[39m([\u001b[38;5;241m1\u001b[39m,\u001b[38;5;241m2\u001b[39m,\u001b[38;5;241m3\u001b[39m,\u001b[38;5;241m5\u001b[39m,\u001b[38;5;241m6\u001b[39m,\u001b[38;5;241m8\u001b[39m,\u001b[38;5;241m9\u001b[39m,\u001b[38;5;241m5\u001b[39m])\n\u001b[0;32m----> 2\u001b[0m \u001b[43mmy_fs\u001b[49m\u001b[38;5;241;43m.\u001b[39;49m\u001b[43madd\u001b[49m(\u001b[38;5;124m\"\u001b[39m\u001b[38;5;124m55\u001b[39m\u001b[38;5;124m\"\u001b[39m)\n",
      "\u001b[0;31mAttributeError\u001b[0m: 'frozenset' object has no attribute 'add'"
     ]
    }
   ],
   "source": [
    "my_fs = frozenset([1,2,3,5,6,8,9,5])\n",
    "my_fs.add(\"55\")"
   ]
  },
  {
   "cell_type": "code",
   "execution_count": null,
   "id": "7cc2583c-0cfa-4b31-a679-3dcd6b56f85c",
   "metadata": {},
   "outputs": [],
   "source": [
    "# it showing error."
   ]
  },
  {
   "cell_type": "code",
   "execution_count": 1,
   "id": "1093522e-d16e-4f99-a7a1-0f3c876980bd",
   "metadata": {},
   "outputs": [],
   "source": [
    "# QUES : Discuss the use case of tuple and set in python programming ?"
   ]
  },
  {
   "cell_type": "code",
   "execution_count": 3,
   "id": "c9c4db01-f898-4bc5-9567-ebd4b9ba0592",
   "metadata": {},
   "outputs": [],
   "source": [
    "# ANSWER : \n",
    "\n",
    "#Tuples:\n",
    "\n",
    "#Immutability: Tuples are ordered collections of elements that cannot be modified once created. \n",
    "#Indexing and Slicing: You can access elements in a tuple using indexing (e.g., tuple[0]) and slicing (e.g., tuple[1:3]).\n",
    "\n",
    "#Sets:\n",
    "\n",
    "#Sets:\n",
    "\n",
    "#Unordered Collections: Sets are collections of unique elements that are not stored in any particular order. This is useful for removing duplicates from a list or for performing set operations like union, intersection, and difference.\n",
    "#Membership Testing: You can check if an element is present in a set using the in operator. This is a fast operation, even for large sets.\n",
    "#Set Operations: Sets support various operations, including:\n",
    "#Union: set1 | set2 creates a new set containing all elements from both sets.\n",
    "#Intersection: set1 & set2 creates a new set containing elements that are present in both sets.\n",
    "#Difference: set1 - set2 creates a new set containing elements that are in set1 but not in set2.\n",
    "#Symmetric Difference: set1 ^ set2 creates a new set containing elements that are in either set1 or set2, but not in both.\n",
    "#Adding and Removing Elements: You can add elements to a set using the add method and remove elements using the remove or discard methods.   \n"
   ]
  },
  {
   "cell_type": "code",
   "execution_count": null,
   "id": "0e6d817c-b146-46fc-af68-0a7949b9b5d2",
   "metadata": {},
   "outputs": [],
   "source": [
    "# QUES : how we can acess , modify and delete the elements in the dictionary ?"
   ]
  },
  {
   "cell_type": "code",
   "execution_count": 6,
   "id": "a6ca2c75-f52a-4097-82e1-d8813b1fae8d",
   "metadata": {},
   "outputs": [
    {
     "name": "stdout",
     "output_type": "stream",
     "text": [
      "Alice\n"
     ]
    }
   ],
   "source": [
    "# ANSWER : #The most common way to access an item in a dictionary is by using its key.\n",
    "\n",
    "\n",
    "my_dict = {'name': 'Alice', 'age': 30, 'city': 'New York'}\n",
    "\n",
    "# Accessing the value associated with the key 'name'\n",
    "name = my_dict['name']\n",
    "print(name) "
   ]
  },
  {
   "cell_type": "code",
   "execution_count": null,
   "id": "41146776-b062-45b8-94fd-aa4f90611e54",
   "metadata": {},
   "outputs": [],
   "source": [
    "# dictionary stores the data as key value pair \n",
    "# keys are unique and immutable so we cant modify the dictinary\n",
    "# dictionaries are unordered but it retains the order of insertion."
   ]
  },
  {
   "cell_type": "code",
   "execution_count": 15,
   "id": "6c4b6852-3b5d-49a7-b169-710c10e5ad53",
   "metadata": {},
   "outputs": [],
   "source": [
    "my_dict['addres']='Banglore' # modifying the data"
   ]
  },
  {
   "cell_type": "code",
   "execution_count": 16,
   "id": "ee98a3f2-832a-4828-a48f-cbc9740ddc01",
   "metadata": {},
   "outputs": [
    {
     "name": "stdout",
     "output_type": "stream",
     "text": [
      "{'name': 'Alice', 'age': 30, 'city': 'New York', 'addres': 'Banglore'}\n"
     ]
    }
   ],
   "source": [
    "print(my_dict)"
   ]
  },
  {
   "cell_type": "code",
   "execution_count": null,
   "id": "aedcefb9-b23c-46ac-b429-bc36cb4d9a03",
   "metadata": {},
   "outputs": [],
   "source": [
    "# delete the elements from the dictionary"
   ]
  },
  {
   "cell_type": "code",
   "execution_count": 28,
   "id": "a5e0ce23-109f-4539-8c56-e421a56597fe",
   "metadata": {},
   "outputs": [
    {
     "name": "stdout",
     "output_type": "stream",
     "text": [
      "{'age': 30, 'city': 'Los Angeles', 'addres': 'Banglore', 'occupation': 'Engineer'}\n"
     ]
    }
   ],
   "source": [
    "my_dict.update({'city': 'Los Angeles', 'occupation': 'Engineer'})\n",
    "print(my_dict) "
   ]
  },
  {
   "cell_type": "code",
   "execution_count": 29,
   "id": "cbcb2b4b-e850-478b-9a93-cda421442574",
   "metadata": {},
   "outputs": [
    {
     "name": "stdout",
     "output_type": "stream",
     "text": [
      "{'age': 30, 'city': 'Los Angeles', 'addres': 'Banglore'}\n"
     ]
    }
   ],
   "source": [
    "del my_dict['occupation']\n",
    "print(my_dict)  "
   ]
  },
  {
   "cell_type": "code",
   "execution_count": 30,
   "id": "5029d4e0-0873-439a-96c5-19bc5482e700",
   "metadata": {},
   "outputs": [],
   "source": [
    "# QUES : Discuss the importance of dictionary keys being immutable and provide example ?"
   ]
  },
  {
   "cell_type": "code",
   "execution_count": null,
   "id": "6518b764-b5d4-4cab-b4d2-7cf01b7c1157",
   "metadata": {},
   "outputs": [],
   "source": [
    "# ANSWER >> \n",
    "# sets and list can not be used as key because they are mutable "
   ]
  },
  {
   "cell_type": "code",
   "execution_count": null,
   "id": "ad1d49b0-b39c-48ae-9f49-493fdfde9350",
   "metadata": {},
   "outputs": [],
   "source": [
    "#the immutability of dictionary keys is essential for the correct and efficient operation of dictionaries in Python"
   ]
  },
  {
   "cell_type": "code",
   "execution_count": 31,
   "id": "9e5d764d-357a-40bd-b314-93584bda1d27",
   "metadata": {},
   "outputs": [
    {
     "ename": "TypeError",
     "evalue": "unhashable type: 'set'",
     "output_type": "error",
     "traceback": [
      "\u001b[0;31m---------------------------------------------------------------------------\u001b[0m",
      "\u001b[0;31mTypeError\u001b[0m                                 Traceback (most recent call last)",
      "Cell \u001b[0;32mIn[31], line 1\u001b[0m\n\u001b[0;32m----> 1\u001b[0m d \u001b[38;5;241m=\u001b[39m { {\u001b[38;5;241m1\u001b[39m,\u001b[38;5;241m2\u001b[39m,\u001b[38;5;241m3\u001b[39m}:\u001b[38;5;124m\"\u001b[39m\u001b[38;5;124majay\u001b[39m\u001b[38;5;124m\"\u001b[39m}\n",
      "\u001b[0;31mTypeError\u001b[0m: unhashable type: 'set'"
     ]
    }
   ],
   "source": [
    "d = { {1,2,3}:\"ajay\"} # it shoes unhashable tpye "
   ]
  },
  {
   "cell_type": "code",
   "execution_count": 34,
   "id": "1884f764-654e-496c-af9c-33496b682ac2",
   "metadata": {},
   "outputs": [
    {
     "data": {
      "text/plain": [
       "'ajay'"
      ]
     },
     "execution_count": 34,
     "metadata": {},
     "output_type": "execute_result"
    }
   ],
   "source": [
    "d = {1:\"ajay\"}\n",
    "d[1]"
   ]
  },
  {
   "cell_type": "code",
   "execution_count": null,
   "id": "554aeb97-adac-48b2-88a6-50c2f0dae4a2",
   "metadata": {},
   "outputs": [],
   "source": [
    "d = { [1,2,]:\"ajay"
   ]
  },
  {
   "cell_type": "markdown",
   "id": "8c500fb4-23a4-49a4-b1b5-d1fc5b0dade3",
   "metadata": {
    "jp-MarkdownHeadingCollapsed": true,
    "tags": []
   },
   "source": []
  }
 ],
 "metadata": {
  "kernelspec": {
   "display_name": "Python 3 (ipykernel)",
   "language": "python",
   "name": "python3"
  },
  "language_info": {
   "codemirror_mode": {
    "name": "ipython",
    "version": 3
   },
   "file_extension": ".py",
   "mimetype": "text/x-python",
   "name": "python",
   "nbconvert_exporter": "python",
   "pygments_lexer": "ipython3",
   "version": "3.10.8"
  }
 },
 "nbformat": 4,
 "nbformat_minor": 5
}
